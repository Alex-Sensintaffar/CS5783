{
  "nbformat": 4,
  "nbformat_minor": 0,
  "metadata": {
    "colab": {
      "provenance": [],
      "collapsed_sections": []
    },
    "kernelspec": {
      "name": "python3",
      "display_name": "Python 3"
    },
    "language_info": {
      "name": "python"
    }
  },
  "cells": [
    {
      "cell_type": "code",
      "source": [
        "import numpy as np\n",
        "from matplotlib import pyplot as plt\n",
        "import math\n",
        "import pandas as pd"
      ],
      "metadata": {
        "id": "Tg9KWiUNixiN"
      },
      "execution_count": null,
      "outputs": []
    },
    {
      "cell_type": "code",
      "execution_count": 9,
      "metadata": {
        "colab": {
          "base_uri": "https://localhost:8080/",
          "height": 281
        },
        "id": "5Qhz185qh4JI",
        "outputId": "c3964277-1330-4cf4-fbb3-ebe3728f7157"
      },
      "outputs": [
        {
          "output_type": "display_data",
          "data": {
            "text/plain": [
              "<Figure size 432x288 with 2 Axes>"
            ],
            "image/png": "[encoded data removed]"
          },
          "metadata": {
            "needs_background": "light"
          }
        }
      ],
      "source": [
        "def GraphOfInputData():\n",
        "    xTest = np.load('/content/drive/MyDrive/x_test.npy')\n",
        "    yTest = np.load('/content/drive/MyDrive/y_test.npy')\n",
        "    xTrain = np.load('/content/drive/MyDrive/x_train.npy')\n",
        "    yTrain = np.load('/content/drive/MyDrive/y_train.npy')\n",
        "\n",
        "    fig, axs = plt.subplots(1, 2)\n",
        "    axs[0].scatter(xTest, yTest)\n",
        "    axs[0].set_title(\"Test Data\")\n",
        "    axs[1].scatter(xTrain, yTrain)\n",
        "    axs[1].title.set_text(\"Training Data\")\n",
        "\n",
        "    plt.show()\n",
        "    \n",
        "GraphOfInputData()"
      ]
    },
    {
      "cell_type": "code",
      "source": [
        "def equation(x):\n",
        "    x_Out = np.zeros(len(x))\n",
        "    for i in range(len(x)):\n",
        "        temp = .5*x[i]\n",
        "        x_Out[i] = (temp**3 + 5*math.sin(5*temp))+5.5\n",
        "    return x_Out\n",
        "\n",
        "def main():\n",
        "    x = np.load('x_train.npy')\n",
        "    y = np.load('y_train.npy')\n",
        "\n",
        "    x_test = np.load('x_test.npy')\n",
        "    y_test = np.load('y_test.npy')\n",
        "\n",
        "\n",
        "    y_calc = equation(x_test)\n",
        "\n",
        "    plt.scatter(x_test, y_test)\n",
        "    plt.scatter(x_test, y_calc)\n",
        "    plt.title(\"Question 1\")\n",
        "    plt.legend([\"Test Data\", \"Calculated from Equation\"])\n",
        "    plt.show()\n",
        "\n",
        "main()"
      ],
      "metadata": {
        "colab": {
          "base_uri": "https://localhost:8080/",
          "height": 281
        },
        "id": "ggTJXVPXjKhp",
        "outputId": "b78d35c0-117f-4155-cabd-d5862fc1e422"
      },
      "execution_count": null,
      "outputs": [
        {
          "output_type": "display_data",
          "data": {
            "text/plain": [
              "<Figure size 432x288 with 1 Axes>"
            ],
            "image/png": "[encoded data removed]"
          },
          "metadata": {
            "needs_background": "light"
          }
        }
      ]
    },
    {
      "cell_type": "code",
      "source": [
        "def leastSquare(actual, forcast):\n",
        "    sum = 0\n",
        "    for i in range(len(actual)):\n",
        "        sum += (actual[i] - forcast[i])**2\n",
        "\n",
        "    return sum/len(actual)\n",
        "\n",
        "def regressionLine(x, y):\n",
        "    #output = b0 + b1*x\n",
        "    # b1 = r sy/sx\n",
        "    # b0 = avrage(y) - b1*avrage(x)\n",
        "    # Sx = sqrt(sum(xi-avrage(x))**2)/(len(x)-1)\n",
        "    # r = (1/n-1) * sum((xi-avrage(x))/sx)(yi-avrage(y))/sy)\n",
        "    for i in range(len(x)):\n",
        "        xAvg = np.sum(x)/len(x)\n",
        "        yAvg = np.sum(y)/len(y)\n",
        "\n",
        "    xsum = 0\n",
        "    ysum = 0\n",
        "\n",
        "    for i in range(len(x)):\n",
        "        xsum += (x[i] - xAvg)**2\n",
        "        ysum += (y[i] - yAvg)**2\n",
        "\n",
        "    sx = ((xsum)/(len(x)))**.5\n",
        "    sy = ((ysum)/(len(y)))**.5\n",
        "\n",
        "    sum = 0\n",
        "\n",
        "    for i in range(len(x)):\n",
        "        sum += (x[i] - xAvg)/sx * (y[i] - yAvg)/sy\n",
        "\n",
        "    r = (1/(len(x))) * sum\n",
        "\n",
        "    b1 = r * sy/sx\n",
        "    b0 = yAvg - b1*xAvg\n",
        "\n",
        "    yCalc = np.zeros(len(y))\n",
        "    for i in range(len(x)):\n",
        "        yCalc[i] = b0 + b1 * x[i]\n",
        "\n",
        "    # print(\"xAvg\", xAvg)\n",
        "    # print(\"yAvg\", yAvg)\n",
        "    # print(\"sx\", sx)\n",
        "    # print(\"sy\", sy)\n",
        "    # print(\"r\", r)\n",
        "    # print(\"b1\", b1)\n",
        "    # print(\"b0\", b0)\n",
        "\n",
        "    return yCalc\n",
        "\n",
        "def meanSquaredError(x, y):\n",
        "    # try:\n",
        "    yForcast = regressionLine(x, y)\n",
        "    MSE = leastSquare(y, yForcast)\n",
        "    # except:\n",
        "        # MSE = \"nan\"\n",
        "    # print(MSE)\n",
        "    return(MSE)\n",
        "\n",
        "\n",
        "def main2():\n",
        "    file = pd.read_csv (r'Assignment1_Q2_Data.csv')\n",
        "    y = pd.DataFrame(file, columns= [\"Price (1000$)\"]).values\n",
        "\n",
        "    # print(y.values)\n",
        "\n",
        "    columnsNameListing = []\n",
        "    columnsDataListing = []\n",
        "\n",
        "    for (columnName, columnData) in file.iteritems():\n",
        "        columnsNameListing.append(columnName)\n",
        "        columnsDataListing.append(columnData.values)\n",
        "\n",
        "    # print(columnsNameListing)\n",
        "    # print(columnsDataListing)\n",
        "\n",
        "    leastSquareResults = []\n",
        "\n",
        "    for i in range(1, len(columnsNameListing)-1):\n",
        "        x = columnsDataListing[i]\n",
        "        # print(x)\n",
        "        leastSquareResults.append(meanSquaredError(x, y))\n",
        "\n",
        "    # print(leastSquareResults)\n",
        "\n",
        "    for i in range(1, len(columnsNameListing)-1):\n",
        "        print(columnsNameListing[i], leastSquareResults[i-1])\n",
        "\n",
        "main2()"
      ],
      "metadata": {
        "colab": {
          "base_uri": "https://localhost:8080/"
        },
        "id": "Ud_BKXftjPJF",
        "outputId": "0ffa8ebb-d48c-44c3-ee5e-91926c39f7dd"
      },
      "execution_count": null,
      "outputs": [
        {
          "output_type": "stream",
          "name": "stdout",
          "text": [
            "Local Price [28.56335311]\n",
            "Bathrooms [27.87238633]\n",
            "Land Area [107.38796413]\n",
            "Living area [29.09665536]\n",
            "# Garages [152.06157685]\n",
            "# Rooms [76.53857002]\n",
            "# Bedrooms [98.41039063]\n",
            "Age of home [175.9450102]\n",
            "Construction type [187.49174768]\n",
            "Architecture type [193.16061475]\n",
            "# Fire places [146.84583124]\n"
          ]
        }
      ]
    },
    {
      "cell_type": "code",
      "source": [
        "def equation(w, x):\n",
        "    x_Out = np.zeros(len(x))\n",
        "    for i in range(len(x)):\n",
        "        temp = .5*x[i]\n",
        "        x_Out[i] = -w * (temp**3 + math.sin(5*temp))+5.5\n",
        "    return x_Out\n",
        "\n",
        "def lossFunction(w, x, y):\n",
        "    return np.sum((equation(w, x) - y)**2)\n",
        "\n",
        "def gradientFunction(w, x, y):\n",
        "    gradient = np.sum(2*equation(1, x) * (equation(w, x) - y))\n",
        "    return gradient\n",
        "\n",
        "def gradientDescent(wGuess, alpha, iterations, x, y):\n",
        "    wValues = [wGuess]\n",
        "\n",
        "    for i in range(iterations):\n",
        "        gradient = gradientFunction(wValues[-1], x, y)\n",
        "        wValues.append(wValues[-1] - alpha * gradient)\n",
        "    \n",
        "    return wValues\n",
        "\n",
        "\n",
        "def main3():\n",
        "    x = np.load('x_train.npy')\n",
        "    y = np.load('y_train.npy')\n",
        "\n",
        "    x_test = np.load('x_test.npy')\n",
        "    y_test = np.load('y_test.npy')\n",
        "\n",
        "    newWValues = gradientDescent(-1, .0001, 50, x, y)\n",
        "    \n",
        "    xRange = np.arange(x_test.min(), x_test.max(), .01)\n",
        "    yOutput = equation(newWValues[-1], xRange)\n",
        "    # print(newWValues[-1])\n",
        "    \n",
        "    fig, axs = plt.subplots(1)\n",
        "\n",
        "    axs.plot(xRange, yOutput)\n",
        "    axs.scatter(x_test, y_test, color=\"orange\")\n",
        "    plt.xlabel('x')\n",
        "    plt.ylabel('y')\n",
        "    plt.legend([\"Model\", \"Test Data\"])\n",
        "    plt.title(\"Question 3\")\n",
        "    # axs.scatter(x, y, color=\"green\")\n",
        "    plt.show()\n",
        "\n",
        "main3()\n"
      ],
      "metadata": {
        "colab": {
          "base_uri": "https://localhost:8080/",
          "height": 295
        },
        "id": "zf_pja7pjXeO",
        "outputId": "1000d295-7d66-4008-e147-764d3c7ac960"
      },
      "execution_count": null,
      "outputs": [
        {
          "output_type": "display_data",
          "data": {
            "text/plain": [
              "<Figure size 432x288 with 1 Axes>"
            ],
            "image/png": "[encoded data removed]"
          },
          "metadata": {
            "needs_background": "light"
          }
        }
      ]
    }
  ]
}