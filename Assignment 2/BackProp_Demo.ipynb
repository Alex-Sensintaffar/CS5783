{
  "cells": [
    {
      "cell_type": "code",
      "execution_count": 7,
      "metadata": {
        "id": "J1wyMfiEocSA"
      },
      "outputs": [],
      "source": [
        "import numpy as np"
      ]
    },
    {
      "cell_type": "code",
      "execution_count": 8,
      "metadata": {
        "id": "3Tgf43tDovEu"
      },
      "outputs": [],
      "source": [
        "# Define activation function\n",
        "def sigmoid(z):\n",
        "\treturn 1/(1 + np.exp(-z))\n",
        "\n",
        "def sigmoid_derivative(z):\n",
        "  return sigmoid(z)*(1-sigmoid(z))"
      ]
    },
    {
      "cell_type": "code",
      "execution_count": 9,
      "metadata": {
        "colab": {
          "base_uri": "https://localhost:8080/"
        },
        "id": "Ly_v7IuxopIs",
        "outputId": "e8b8cf57-971b-470d-9755-c0b5aef16c9b"
      },
      "outputs": [
        {
          "name": "stdout",
          "output_type": "stream",
          "text": [
            "X (2, 1)\n",
            "Y 0\n",
            "---------------------\n",
            "Initial parameters:\n",
            "W1 [[0.05646133 0.92756904]\n",
            " [0.09864371 0.89645791]]\n",
            "b1 [[0.24836723]\n",
            " [0.84185409]]\n",
            "---------------------\n",
            "W2 [[0.57480475 0.03851956]]\n",
            "b2 [[0.3869824]]\n"
          ]
        }
      ],
      "source": [
        "# Define input\n",
        "x = np.random.uniform(0,1,(2,1))\n",
        "y = np.random.randint(0, 2)\n",
        "\n",
        "# Define initial parameters\n",
        "W1 = np.random.rand(2,2)\n",
        "b1 = np.random.rand(2,1)\n",
        "W2 = np.random.rand(1,2)\n",
        "b2 = np.random.rand(1,1)\n",
        "\n",
        "print(\"X\", x.shape)\n",
        "pritn(x)\n",
        "print(\"Y\", y)\n",
        "print(\"---------------------\")\n",
        "print(\"Initial parameters:\")\n",
        "print(\"W1\", W1)\n",
        "print(\"b1\", b1)\n",
        "print(\"---------------------\")\n",
        "print(\"W2\", W2)\n",
        "print(\"b2\", b2)"
      ]
    },
    {
      "cell_type": "code",
      "execution_count": 17,
      "metadata": {
        "colab": {
          "base_uri": "https://localhost:8080/"
        },
        "id": "zfpKx3ngoscR",
        "outputId": "db768dde-49d7-4557-9d04-1e76c1850a90"
      },
      "outputs": [
        {
          "name": "stdout",
          "output_type": "stream",
          "text": [
            "Prediction: [[0.85671444]] Actual: 1\n"
          ]
        }
      ],
      "source": [
        "# Fwd Pass\n",
        "z1 = np.dot(W1, x) + b1\n",
        "a1 = sigmoid(z1)\n",
        "\n",
        "z2 = np.dot(W2, a1) + b2\n",
        "a2 = sigmoid(z2)\n",
        "\n",
        "# Initial output\n",
        "print(\"Prediction:\", a2, \"Actual:\", y)"
      ]
    },
    {
      "cell_type": "code",
      "execution_count": 16,
      "metadata": {
        "id": "bNrfUqJPpCbL"
      },
      "outputs": [],
      "source": [
        "# Backward pass\n",
        "\n",
        "# Compute gradients\n",
        "dz2 = (a2 - y)\n",
        "dW2 = np.dot(dz2, a1.T)\n",
        "db2 = dz2\n",
        "dz1 = np.dot(W2.T, dz2) * sigmoid(z1) * (1-sigmoid(z1))\n",
        "dW1 = np.dot(dz1, x.T)\n",
        "db1 = dz1\n",
        "\n",
        "# Update weights\n",
        "W1 = W1 - dW1\n",
        "W2 = W2 - dW2\n",
        "b1 = b1 - db1\n",
        "b2 = b2 - db2"
      ]
    },
    {
      "cell_type": "code",
      "execution_count": 13,
      "metadata": {
        "colab": {
          "base_uri": "https://localhost:8080/"
        },
        "id": "EtRC2uWdpScV",
        "outputId": "d1644516-e4a8-4fcf-9944-1924b3e123bf"
      },
      "outputs": [
        {
          "name": "stdout",
          "output_type": "stream",
          "text": [
            "Initial Prediction [[0.69113893]] New Prediction: [[0.11148499]] Actual: 0\n"
          ]
        }
      ],
      "source": [
        "# Fwd Pass with new weights\n",
        "z1New = np.dot(W1, x) + b1\n",
        "a1New = sigmoid(z1New)\n",
        "z2New = np.dot(W2, a1New) + b2\n",
        "a2New = sigmoid(z2New)\n",
        "print(\"Initial Prediction\", a2, \"New Prediction:\", a2New, \"Actual:\", y)"
      ]
    },
    {
      "cell_type": "code",
      "execution_count": 14,
      "metadata": {
        "colab": {
          "base_uri": "https://localhost:8080/"
        },
        "id": "1RTw6_crpaLD",
        "outputId": "82f0cdcc-caf0-456f-ad51-060269c6b471"
      },
      "outputs": [
        {
          "name": "stdout",
          "output_type": "stream",
          "text": [
            "[[0.0273362]] [[0.69113893]]\n",
            "[[0.0056361]] [[0.69113893]]\n",
            "[[0.00101177]] [[0.69113893]]\n",
            "[[0.00016402]] [[0.69113893]]\n",
            "[[2.54162253e-05]] [[0.69113893]]\n",
            "[[3.9853524e-06]] [[0.69113893]]\n",
            "[[6.52520035e-07]] [[0.69113893]]\n",
            "[[1.117296e-07]] [[0.69113893]]\n",
            "[[1.97370916e-08]] [[0.69113893]]\n",
            "[[3.54574084e-09]] [[0.69113893]]\n",
            "[[6.41754919e-10]] [[0.69113893]]\n",
            "[[1.16477714e-10]] [[0.69113893]]\n",
            "[[2.11594758e-11]] [[0.69113893]]\n",
            "[[3.84480821e-12]] [[0.69113893]]\n",
            "[[6.98667328e-13]] [[0.69113893]]\n",
            "[[1.26961389e-13]] [[0.69113893]]\n",
            "[[2.30713976e-14]] [[0.69113893]]\n",
            "[[4.19253124e-15]] [[0.69113893]]\n",
            "[[7.6186625e-16]] [[0.69113893]]\n",
            "[[1.3844624e-16]] [[0.69113893]]\n",
            "[[2.51584335e-17]] [[0.69113893]]\n",
            "[[4.57178741e-18]] [[0.69113893]]\n",
            "[[8.3078464e-19]] [[0.69113893]]\n",
            "[[1.50970082e-19]] [[0.69113893]]\n",
            "[[2.74342644e-20]] [[0.69113893]]\n"
          ]
        }
      ],
      "source": [
        "# Backprop\n",
        "def backprop(W1, W2, b1, b2):\n",
        "\tfor i in range(25):\n",
        "\t\tdz2 = (a2 - y)\n",
        "\t\tdW2 = np.dot(dz2, a1.T)\n",
        "\t\tdb2 = dz2\n",
        "\t\tdz1 = np.dot(W2.T, dz2) * sigmoid(z1) * (1-sigmoid(z1))\n",
        "\t\tdW1 = np.dot(dz1, x.T)\n",
        "\t\tdb1 = dz1\n",
        "\t\tW1 = W1 - dW1\n",
        "\t\tW2 = W2 - dW2\n",
        "\t\tb1 = b1 - db1\n",
        "\t\tb2 = b2 - db2\n",
        "\t\tz1New = np.dot(W1, x) + b1\n",
        "\t\ta1New = sigmoid(z1New)\n",
        "\t\tz2New = np.dot(W2, a1New) + b2\n",
        "\t\ta2New = sigmoid(z2New)\n",
        "\t\tprint(a2New, a2)\n",
        "\n",
        "backprop(W1, W2, b1, b2)"
      ]
    },
    {
      "cell_type": "code",
      "execution_count": 15,
      "metadata": {
        "colab": {
          "base_uri": "https://localhost:8080/"
        },
        "id": "Kny-q6s0pnQ1",
        "outputId": "e209623e-ebd0-425e-9dd2-ba301fa034ef"
      },
      "outputs": [
        {
          "name": "stdout",
          "output_type": "stream",
          "text": [
            "[[0.85671444]] [[0.69113893]]\n",
            "[[0.91820082]] [[0.69113893]]\n",
            "[[0.95556014]] [[0.69113893]]\n",
            "[[0.97684812]] [[0.69113893]]\n",
            "[[0.98838087]] [[0.69113893]]\n",
            "[[0.99436644]] [[0.69113893]]\n",
            "[[0.99735466]] [[0.69113893]]\n",
            "[[0.99879344]] [[0.69113893]]\n",
            "[[0.99946335]] [[0.69113893]]\n",
            "[[0.99976608]] [[0.69113893]]\n",
            "[[0.99989949]] [[0.69113893]]\n",
            "[[0.99995717]] [[0.69113893]]\n",
            "[[0.99998179]] [[0.69113893]]\n",
            "[[0.99999224]] [[0.69113893]]\n",
            "[[0.99999667]] [[0.69113893]]\n",
            "[[0.99999856]] [[0.69113893]]\n",
            "[[0.99999937]] [[0.69113893]]\n",
            "[[0.99999972]] [[0.69113893]]\n",
            "[[0.99999987]] [[0.69113893]]\n",
            "[[0.99999994]] [[0.69113893]]\n",
            "[[0.99999997]] [[0.69113893]]\n",
            "[[0.99999999]] [[0.69113893]]\n",
            "[[0.99999999]] [[0.69113893]]\n",
            "[[1.]] [[0.69113893]]\n",
            "[[1.]] [[0.69113893]]\n"
          ]
        }
      ],
      "source": [
        "x = np.random.uniform(0,1,(2,1))\n",
        "y = np.random.randint(0, 2)\n",
        "\n",
        "# Define input\n",
        "x = np.random.uniform(0,1,(2,1))\n",
        "y = np.random.randint(1, 2)\n",
        "\n",
        "# Define initial parameters\n",
        "W1 = np.random.rand(2,2)\n",
        "b1 = np.random.rand(2,1)\n",
        "W2 = np.random.rand(1,2)\n",
        "b2 = np.random.rand(1,1)\n",
        "\n",
        "backprop(W1, W2, b1, b2)"
      ]
    }
  ],
  "metadata": {
    "colab": {
      "provenance": []
    },
    "kernelspec": {
      "display_name": "Python 3.10.5 64-bit",
      "language": "python",
      "name": "python3"
    },
    "language_info": {
      "codemirror_mode": {
        "name": "ipython",
        "version": 3
      },
      "file_extension": ".py",
      "mimetype": "text/x-python",
      "name": "python",
      "nbconvert_exporter": "python",
      "pygments_lexer": "ipython3",
      "version": "3.10.5"
    },
    "vscode": {
      "interpreter": {
        "hash": "3bd13bc16400e16874b7ce28af58a129343287e94248a182c1f06fbb6b76ef8e"
      }
    }
  },
  "nbformat": 4,
  "nbformat_minor": 0
}
